{
  "nbformat": 4,
  "nbformat_minor": 0,
  "metadata": {
    "colab": {
      "name": "Netflix movie recommendation model .ipynb",
      "provenance": [],
      "collapsed_sections": [],
      "toc_visible": true,
      "include_colab_link": true
    },
    "kernelspec": {
      "name": "python3",
      "display_name": "Python 3"
    }
  },
  "cells": [
    {
      "cell_type": "markdown",
      "metadata": {
        "id": "view-in-github",
        "colab_type": "text"
      },
      "source": [
        "<a href=\"https://colab.research.google.com/github/Kevinsamuelgitau/Netflix-movie-recommendation-model/blob/master/Netflix_movie_recommendation_model_.ipynb\" target=\"_parent\"><img src=\"https://colab.research.google.com/assets/colab-badge.svg\" alt=\"Open In Colab\"/></a>"
      ]
    },
    {
      "cell_type": "markdown",
      "metadata": {
        "id": "ejmBi6YWBV26",
        "colab_type": "text"
      },
      "source": [
        "# DEFINING THE ANALYTIC QUESTION"
      ]
    },
    {
      "cell_type": "markdown",
      "metadata": {
        "id": "ye_UYNXxBa-S",
        "colab_type": "text"
      },
      "source": [
        "# a. SPECIFYING THE ANALYTIC QUESTION"
      ]
    },
    {
      "cell_type": "markdown",
      "metadata": {
        "id": "I-6jASJPCAS7",
        "colab_type": "text"
      },
      "source": [
        "The task is to create a model that recommends movies and TV shows to Netflix users based on history of selection"
      ]
    },
    {
      "cell_type": "markdown",
      "metadata": {
        "id": "thnXUiyyBhgY",
        "colab_type": "text"
      },
      "source": [
        "# b. DEFINING METRICS FOR SUCCESS"
      ]
    },
    {
      "cell_type": "markdown",
      "metadata": {
        "id": "O6n80KZuCoos",
        "colab_type": "text"
      },
      "source": [
        "Our success will be marked by building a model that is highly accurate without overfitting/underfitting"
      ]
    },
    {
      "cell_type": "markdown",
      "metadata": {
        "id": "1s7dfgcYBoYK",
        "colab_type": "text"
      },
      "source": [
        "# c. UNDERSTANDING THE CONTEXT"
      ]
    },
    {
      "cell_type": "markdown",
      "metadata": {
        "id": "t_BnEHPXCsq5",
        "colab_type": "text"
      },
      "source": [
        "Our task is to study data collected from users through  Flixable which is a third-party Netflix search engine. Later, we will use the data to build a model which predicts movies and TV shows that a user is likely to watch, based on their history of selection"
      ]
    },
    {
      "cell_type": "markdown",
      "metadata": {
        "id": "S6Ua24-jBtvl",
        "colab_type": "text"
      },
      "source": [
        "# d. RECORDING THE EXPERIMANTAL DESIGN"
      ]
    },
    {
      "cell_type": "markdown",
      "metadata": {
        "id": "YMMGf6KuDHpj",
        "colab_type": "text"
      },
      "source": [
        "Here is the expected workflow of our project:\n",
        "1. Data cleaning and preparation\n",
        "*   Loading libraries and dataset\n",
        "*   Dealing with missing values etc.\n",
        "2. Performing EDA\n",
        "*   Univariate analysis\n",
        "3. Creating recommendation model\n",
        "*word2vec model   \n",
        "\n",
        "\n",
        "\n"
      ]
    },
    {
      "cell_type": "markdown",
      "metadata": {
        "id": "hhN-XVmNB5YG",
        "colab_type": "text"
      },
      "source": [
        "# e. DATA RELEVANCE"
      ]
    },
    {
      "cell_type": "markdown",
      "metadata": {
        "id": "eTIknITmD8ZK",
        "colab_type": "text"
      },
      "source": [
        "Here is a link to our dataset: https://www.kaggle.com/shivamb/netflix-shows\n",
        "\n",
        "And glosary:\n",
        "\n",
        "show_id- Unique ID for every Movie / Tv Show\n",
        "\n",
        "type- Identifier - A Movie or TV Show\n",
        "\n",
        "title- Title of the Movie / Tv Show\n",
        "\n",
        "director- Director of the Movie\n",
        "\n",
        "cast- Actors involved in the movie / show\n",
        "\n",
        "country- Country where the movie / show was produced\n",
        "\n",
        "date_added- Date it was added on Netflix\n",
        "\n",
        "release_year- Actual Release year of the move / show\n",
        "\n",
        "rating- TV Rating of the movie / show\n",
        "\n",
        "duration- Total Duration - in minutes or number of seasons\n",
        "\n",
        "listed_in\tdescription"
      ]
    },
    {
      "cell_type": "markdown",
      "metadata": {
        "id": "lKowc6kQtPN0",
        "colab_type": "text"
      },
      "source": [
        "# IMPORTING LIBRARIES"
      ]
    },
    {
      "cell_type": "code",
      "metadata": {
        "id": "bOUseowtPjk3",
        "colab_type": "code",
        "colab": {
          "base_uri": "https://localhost:8080/",
          "height": 71
        },
        "outputId": "7dd23752-2c4b-4143-b859-418f4ce3980a"
      },
      "source": [
        "# Importing all libraries required for analysis\n",
        "import pandas as pd\n",
        "import numpy as np\n",
        "import numpy.random as nr\n",
        "import matplotlib.pyplot as plt\n",
        "import seaborn as sns\n",
        "from sklearn.metrics import confusion_matrix\n",
        "from sklearn.metrics.pairwise import cosine_similarity\n",
        "import warnings\n",
        "warnings.filterwarnings('ignore')\n",
        "import math\n",
        "pd.reset_option(\"^display\")"
      ],
      "execution_count": null,
      "outputs": [
        {
          "output_type": "stream",
          "text": [
            "/usr/local/lib/python3.6/dist-packages/statsmodels/tools/_testing.py:19: FutureWarning: pandas.util.testing is deprecated. Use the functions in the public API at pandas.testing instead.\n",
            "  import pandas.util.testing as tm\n"
          ],
          "name": "stderr"
        }
      ]
    },
    {
      "cell_type": "markdown",
      "metadata": {
        "id": "8urjVYT6tUo7",
        "colab_type": "text"
      },
      "source": [
        "# LOADING THE DATASET"
      ]
    },
    {
      "cell_type": "code",
      "metadata": {
        "id": "hD2IkQvCP2c4",
        "colab_type": "code",
        "colab": {
          "base_uri": "https://localhost:8080/",
          "height": 666
        },
        "outputId": "c465fa2d-4900-4d44-99bb-71773e5ccea6"
      },
      "source": [
        "# Loading the dataset and previewing \n",
        "df = pd.read_csv('netflix_titles.csv')\n",
        "df.head()"
      ],
      "execution_count": null,
      "outputs": [
        {
          "output_type": "execute_result",
          "data": {
            "text/html": [
              "<div>\n",
              "<style scoped>\n",
              "    .dataframe tbody tr th:only-of-type {\n",
              "        vertical-align: middle;\n",
              "    }\n",
              "\n",
              "    .dataframe tbody tr th {\n",
              "        vertical-align: top;\n",
              "    }\n",
              "\n",
              "    .dataframe thead th {\n",
              "        text-align: right;\n",
              "    }\n",
              "</style>\n",
              "<table border=\"1\" class=\"dataframe\">\n",
              "  <thead>\n",
              "    <tr style=\"text-align: right;\">\n",
              "      <th></th>\n",
              "      <th>show_id</th>\n",
              "      <th>type</th>\n",
              "      <th>title</th>\n",
              "      <th>director</th>\n",
              "      <th>cast</th>\n",
              "      <th>country</th>\n",
              "      <th>date_added</th>\n",
              "      <th>release_year</th>\n",
              "      <th>rating</th>\n",
              "      <th>duration</th>\n",
              "      <th>listed_in</th>\n",
              "      <th>description</th>\n",
              "    </tr>\n",
              "  </thead>\n",
              "  <tbody>\n",
              "    <tr>\n",
              "      <th>0</th>\n",
              "      <td>81145628</td>\n",
              "      <td>Movie</td>\n",
              "      <td>Norm of the North: King Sized Adventure</td>\n",
              "      <td>Richard Finn, Tim Maltby</td>\n",
              "      <td>Alan Marriott, Andrew Toth, Brian Dobson, Cole...</td>\n",
              "      <td>United States, India, South Korea, China</td>\n",
              "      <td>September 9, 2019</td>\n",
              "      <td>2019</td>\n",
              "      <td>TV-PG</td>\n",
              "      <td>90 min</td>\n",
              "      <td>Children &amp; Family Movies, Comedies</td>\n",
              "      <td>Before planning an awesome wedding for his gra...</td>\n",
              "    </tr>\n",
              "    <tr>\n",
              "      <th>1</th>\n",
              "      <td>80117401</td>\n",
              "      <td>Movie</td>\n",
              "      <td>Jandino: Whatever it Takes</td>\n",
              "      <td>NaN</td>\n",
              "      <td>Jandino Asporaat</td>\n",
              "      <td>United Kingdom</td>\n",
              "      <td>September 9, 2016</td>\n",
              "      <td>2016</td>\n",
              "      <td>TV-MA</td>\n",
              "      <td>94 min</td>\n",
              "      <td>Stand-Up Comedy</td>\n",
              "      <td>Jandino Asporaat riffs on the challenges of ra...</td>\n",
              "    </tr>\n",
              "    <tr>\n",
              "      <th>2</th>\n",
              "      <td>70234439</td>\n",
              "      <td>TV Show</td>\n",
              "      <td>Transformers Prime</td>\n",
              "      <td>NaN</td>\n",
              "      <td>Peter Cullen, Sumalee Montano, Frank Welker, J...</td>\n",
              "      <td>United States</td>\n",
              "      <td>September 8, 2018</td>\n",
              "      <td>2013</td>\n",
              "      <td>TV-Y7-FV</td>\n",
              "      <td>1 Season</td>\n",
              "      <td>Kids' TV</td>\n",
              "      <td>With the help of three human allies, the Autob...</td>\n",
              "    </tr>\n",
              "    <tr>\n",
              "      <th>3</th>\n",
              "      <td>80058654</td>\n",
              "      <td>TV Show</td>\n",
              "      <td>Transformers: Robots in Disguise</td>\n",
              "      <td>NaN</td>\n",
              "      <td>Will Friedle, Darren Criss, Constance Zimmer, ...</td>\n",
              "      <td>United States</td>\n",
              "      <td>September 8, 2018</td>\n",
              "      <td>2016</td>\n",
              "      <td>TV-Y7</td>\n",
              "      <td>1 Season</td>\n",
              "      <td>Kids' TV</td>\n",
              "      <td>When a prison ship crash unleashes hundreds of...</td>\n",
              "    </tr>\n",
              "    <tr>\n",
              "      <th>4</th>\n",
              "      <td>80125979</td>\n",
              "      <td>Movie</td>\n",
              "      <td>#realityhigh</td>\n",
              "      <td>Fernando Lebrija</td>\n",
              "      <td>Nesta Cooper, Kate Walsh, John Michael Higgins...</td>\n",
              "      <td>United States</td>\n",
              "      <td>September 8, 2017</td>\n",
              "      <td>2017</td>\n",
              "      <td>TV-14</td>\n",
              "      <td>99 min</td>\n",
              "      <td>Comedies</td>\n",
              "      <td>When nerdy high schooler Dani finally attracts...</td>\n",
              "    </tr>\n",
              "  </tbody>\n",
              "</table>\n",
              "</div>"
            ],
            "text/plain": [
              "    show_id  ...                                        description\n",
              "0  81145628  ...  Before planning an awesome wedding for his gra...\n",
              "1  80117401  ...  Jandino Asporaat riffs on the challenges of ra...\n",
              "2  70234439  ...  With the help of three human allies, the Autob...\n",
              "3  80058654  ...  When a prison ship crash unleashes hundreds of...\n",
              "4  80125979  ...  When nerdy high schooler Dani finally attracts...\n",
              "\n",
              "[5 rows x 12 columns]"
            ]
          },
          "metadata": {
            "tags": []
          },
          "execution_count": 2
        }
      ]
    },
    {
      "cell_type": "code",
      "metadata": {
        "id": "SLcvupKCR1Tr",
        "colab_type": "code",
        "colab": {
          "base_uri": "https://localhost:8080/",
          "height": 717
        },
        "outputId": "13f77e45-7757-4fc8-e706-89bdd58d341b"
      },
      "source": [
        "# checking the last records in the dataframe\n",
        "df.tail()"
      ],
      "execution_count": null,
      "outputs": [
        {
          "output_type": "execute_result",
          "data": {
            "text/html": [
              "<div>\n",
              "<style scoped>\n",
              "    .dataframe tbody tr th:only-of-type {\n",
              "        vertical-align: middle;\n",
              "    }\n",
              "\n",
              "    .dataframe tbody tr th {\n",
              "        vertical-align: top;\n",
              "    }\n",
              "\n",
              "    .dataframe thead th {\n",
              "        text-align: right;\n",
              "    }\n",
              "</style>\n",
              "<table border=\"1\" class=\"dataframe\">\n",
              "  <thead>\n",
              "    <tr style=\"text-align: right;\">\n",
              "      <th></th>\n",
              "      <th>show_id</th>\n",
              "      <th>type</th>\n",
              "      <th>title</th>\n",
              "      <th>director</th>\n",
              "      <th>cast</th>\n",
              "      <th>country</th>\n",
              "      <th>date_added</th>\n",
              "      <th>release_year</th>\n",
              "      <th>rating</th>\n",
              "      <th>duration</th>\n",
              "      <th>listed_in</th>\n",
              "      <th>description</th>\n",
              "    </tr>\n",
              "  </thead>\n",
              "  <tbody>\n",
              "    <tr>\n",
              "      <th>6229</th>\n",
              "      <td>80000063</td>\n",
              "      <td>TV Show</td>\n",
              "      <td>Red vs. Blue</td>\n",
              "      <td>NaN</td>\n",
              "      <td>Burnie Burns, Jason Saldaña, Gustavo Sorola, G...</td>\n",
              "      <td>United States</td>\n",
              "      <td>NaN</td>\n",
              "      <td>2015</td>\n",
              "      <td>NR</td>\n",
              "      <td>13 Seasons</td>\n",
              "      <td>TV Action &amp; Adventure, TV Comedies, TV Sci-Fi ...</td>\n",
              "      <td>This parody of first-person shooter games, mil...</td>\n",
              "    </tr>\n",
              "    <tr>\n",
              "      <th>6230</th>\n",
              "      <td>70286564</td>\n",
              "      <td>TV Show</td>\n",
              "      <td>Maron</td>\n",
              "      <td>NaN</td>\n",
              "      <td>Marc Maron, Judd Hirsch, Josh Brener, Nora Zeh...</td>\n",
              "      <td>United States</td>\n",
              "      <td>NaN</td>\n",
              "      <td>2016</td>\n",
              "      <td>TV-MA</td>\n",
              "      <td>4 Seasons</td>\n",
              "      <td>TV Comedies</td>\n",
              "      <td>Marc Maron stars as Marc Maron, who interviews...</td>\n",
              "    </tr>\n",
              "    <tr>\n",
              "      <th>6231</th>\n",
              "      <td>80116008</td>\n",
              "      <td>Movie</td>\n",
              "      <td>Little Baby Bum: Nursery Rhyme Friends</td>\n",
              "      <td>NaN</td>\n",
              "      <td>NaN</td>\n",
              "      <td>NaN</td>\n",
              "      <td>NaN</td>\n",
              "      <td>2016</td>\n",
              "      <td>NaN</td>\n",
              "      <td>60 min</td>\n",
              "      <td>Movies</td>\n",
              "      <td>Nursery rhymes and original music for children...</td>\n",
              "    </tr>\n",
              "    <tr>\n",
              "      <th>6232</th>\n",
              "      <td>70281022</td>\n",
              "      <td>TV Show</td>\n",
              "      <td>A Young Doctor's Notebook and Other Stories</td>\n",
              "      <td>NaN</td>\n",
              "      <td>Daniel Radcliffe, Jon Hamm, Adam Godley, Chris...</td>\n",
              "      <td>United Kingdom</td>\n",
              "      <td>NaN</td>\n",
              "      <td>2013</td>\n",
              "      <td>TV-MA</td>\n",
              "      <td>2 Seasons</td>\n",
              "      <td>British TV Shows, TV Comedies, TV Dramas</td>\n",
              "      <td>Set during the Russian Revolution, this comic ...</td>\n",
              "    </tr>\n",
              "    <tr>\n",
              "      <th>6233</th>\n",
              "      <td>70153404</td>\n",
              "      <td>TV Show</td>\n",
              "      <td>Friends</td>\n",
              "      <td>NaN</td>\n",
              "      <td>Jennifer Aniston, Courteney Cox, Lisa Kudrow, ...</td>\n",
              "      <td>United States</td>\n",
              "      <td>NaN</td>\n",
              "      <td>2003</td>\n",
              "      <td>TV-14</td>\n",
              "      <td>10 Seasons</td>\n",
              "      <td>Classic &amp; Cult TV, TV Comedies</td>\n",
              "      <td>This hit sitcom follows the merry misadventure...</td>\n",
              "    </tr>\n",
              "  </tbody>\n",
              "</table>\n",
              "</div>"
            ],
            "text/plain": [
              "       show_id  ...                                        description\n",
              "6229  80000063  ...  This parody of first-person shooter games, mil...\n",
              "6230  70286564  ...  Marc Maron stars as Marc Maron, who interviews...\n",
              "6231  80116008  ...  Nursery rhymes and original music for children...\n",
              "6232  70281022  ...  Set during the Russian Revolution, this comic ...\n",
              "6233  70153404  ...  This hit sitcom follows the merry misadventure...\n",
              "\n",
              "[5 rows x 12 columns]"
            ]
          },
          "metadata": {
            "tags": []
          },
          "execution_count": 3
        }
      ]
    },
    {
      "cell_type": "markdown",
      "metadata": {
        "id": "Axa8C2_ltsA0",
        "colab_type": "text"
      },
      "source": [
        "# CHECKING THE DATA"
      ]
    },
    {
      "cell_type": "code",
      "metadata": {
        "id": "QmMut4b9TvPJ",
        "colab_type": "code",
        "colab": {
          "base_uri": "https://localhost:8080/",
          "height": 34
        },
        "outputId": "bab92a5e-ac9f-4411-c311-21dca26d30f9"
      },
      "source": [
        "# checking number of records \n",
        "df.shape"
      ],
      "execution_count": null,
      "outputs": [
        {
          "output_type": "execute_result",
          "data": {
            "text/plain": [
              "(6234, 12)"
            ]
          },
          "metadata": {
            "tags": []
          },
          "execution_count": 4
        }
      ]
    },
    {
      "cell_type": "code",
      "metadata": {
        "id": "mG4z1nq3T4zO",
        "colab_type": "code",
        "colab": {
          "base_uri": "https://localhost:8080/",
          "height": 340
        },
        "outputId": "15e8d4b3-5849-40a9-f876-95449765f31f"
      },
      "source": [
        "# checking dataset info\n",
        "df.info()"
      ],
      "execution_count": null,
      "outputs": [
        {
          "output_type": "stream",
          "text": [
            "<class 'pandas.core.frame.DataFrame'>\n",
            "RangeIndex: 6234 entries, 0 to 6233\n",
            "Data columns (total 12 columns):\n",
            " #   Column        Non-Null Count  Dtype \n",
            "---  ------        --------------  ----- \n",
            " 0   show_id       6234 non-null   int64 \n",
            " 1   type          6234 non-null   object\n",
            " 2   title         6234 non-null   object\n",
            " 3   director      4265 non-null   object\n",
            " 4   cast          5664 non-null   object\n",
            " 5   country       5758 non-null   object\n",
            " 6   date_added    6223 non-null   object\n",
            " 7   release_year  6234 non-null   int64 \n",
            " 8   rating        6224 non-null   object\n",
            " 9   duration      6234 non-null   object\n",
            " 10  listed_in     6234 non-null   object\n",
            " 11  description   6234 non-null   object\n",
            "dtypes: int64(2), object(10)\n",
            "memory usage: 584.6+ KB\n"
          ],
          "name": "stdout"
        }
      ]
    },
    {
      "cell_type": "code",
      "metadata": {
        "id": "C8BOeM-Mt2H_",
        "colab_type": "code",
        "colab": {
          "base_uri": "https://localhost:8080/",
          "height": 297
        },
        "outputId": "80e46f4f-b161-4088-8299-3c361cf9ed69"
      },
      "source": [
        "# checking general statistics of data\n",
        "df.describe()"
      ],
      "execution_count": null,
      "outputs": [
        {
          "output_type": "execute_result",
          "data": {
            "text/html": [
              "<div>\n",
              "<style scoped>\n",
              "    .dataframe tbody tr th:only-of-type {\n",
              "        vertical-align: middle;\n",
              "    }\n",
              "\n",
              "    .dataframe tbody tr th {\n",
              "        vertical-align: top;\n",
              "    }\n",
              "\n",
              "    .dataframe thead th {\n",
              "        text-align: right;\n",
              "    }\n",
              "</style>\n",
              "<table border=\"1\" class=\"dataframe\">\n",
              "  <thead>\n",
              "    <tr style=\"text-align: right;\">\n",
              "      <th></th>\n",
              "      <th>show_id</th>\n",
              "      <th>release_year</th>\n",
              "    </tr>\n",
              "  </thead>\n",
              "  <tbody>\n",
              "    <tr>\n",
              "      <th>count</th>\n",
              "      <td>6.234000e+03</td>\n",
              "      <td>6234.00000</td>\n",
              "    </tr>\n",
              "    <tr>\n",
              "      <th>mean</th>\n",
              "      <td>7.670368e+07</td>\n",
              "      <td>2013.35932</td>\n",
              "    </tr>\n",
              "    <tr>\n",
              "      <th>std</th>\n",
              "      <td>1.094296e+07</td>\n",
              "      <td>8.81162</td>\n",
              "    </tr>\n",
              "    <tr>\n",
              "      <th>min</th>\n",
              "      <td>2.477470e+05</td>\n",
              "      <td>1925.00000</td>\n",
              "    </tr>\n",
              "    <tr>\n",
              "      <th>25%</th>\n",
              "      <td>8.003580e+07</td>\n",
              "      <td>2013.00000</td>\n",
              "    </tr>\n",
              "    <tr>\n",
              "      <th>50%</th>\n",
              "      <td>8.016337e+07</td>\n",
              "      <td>2016.00000</td>\n",
              "    </tr>\n",
              "    <tr>\n",
              "      <th>75%</th>\n",
              "      <td>8.024489e+07</td>\n",
              "      <td>2018.00000</td>\n",
              "    </tr>\n",
              "    <tr>\n",
              "      <th>max</th>\n",
              "      <td>8.123573e+07</td>\n",
              "      <td>2020.00000</td>\n",
              "    </tr>\n",
              "  </tbody>\n",
              "</table>\n",
              "</div>"
            ],
            "text/plain": [
              "            show_id  release_year\n",
              "count  6.234000e+03    6234.00000\n",
              "mean   7.670368e+07    2013.35932\n",
              "std    1.094296e+07       8.81162\n",
              "min    2.477470e+05    1925.00000\n",
              "25%    8.003580e+07    2013.00000\n",
              "50%    8.016337e+07    2016.00000\n",
              "75%    8.024489e+07    2018.00000\n",
              "max    8.123573e+07    2020.00000"
            ]
          },
          "metadata": {
            "tags": []
          },
          "execution_count": 6
        }
      ]
    },
    {
      "cell_type": "markdown",
      "metadata": {
        "id": "ZziqZfFUtNla",
        "colab_type": "text"
      },
      "source": [
        "# CLEANING THE DATASET"
      ]
    },
    {
      "cell_type": "code",
      "metadata": {
        "id": "tSMlkK2_ujO-",
        "colab_type": "code",
        "colab": {
          "base_uri": "https://localhost:8080/",
          "height": 238
        },
        "outputId": "6041cc39-285e-4928-9a88-aec2deaa8a95"
      },
      "source": [
        "# We start by checking for null values in our dataset\n",
        "\n",
        "df.isnull().sum()"
      ],
      "execution_count": null,
      "outputs": [
        {
          "output_type": "execute_result",
          "data": {
            "text/plain": [
              "show_id            0\n",
              "type               0\n",
              "title              0\n",
              "director        1969\n",
              "cast             570\n",
              "country          476\n",
              "date_added        11\n",
              "release_year       0\n",
              "rating            10\n",
              "duration           0\n",
              "listed_in          0\n",
              "description        0\n",
              "dtype: int64"
            ]
          },
          "metadata": {
            "tags": []
          },
          "execution_count": 7
        }
      ]
    },
    {
      "cell_type": "code",
      "metadata": {
        "id": "uY3pDlF9u3Lr",
        "colab_type": "code",
        "colab": {}
      },
      "source": [
        "# we drop director column because it has too many missing values\n",
        "df.drop('director' , axis = 1, inplace = True)"
      ],
      "execution_count": null,
      "outputs": []
    },
    {
      "cell_type": "code",
      "metadata": {
        "id": "fry22PhBvMzx",
        "colab_type": "code",
        "colab": {
          "base_uri": "https://localhost:8080/",
          "height": 51
        },
        "outputId": "30fdf1cf-16ed-4666-f0b3-76c47071849b"
      },
      "source": [
        "# Drop remaining null values from the dataset\n",
        "# shape before droping the null values\n",
        "print(df.shape)\n",
        "\n",
        "# Droping null values\n",
        "df_new =df.dropna()\n",
        "\n",
        "#shape of the new dataset\n",
        "df_new.shape\n",
        "# we still have enough data to complete the analysis"
      ],
      "execution_count": null,
      "outputs": [
        {
          "output_type": "stream",
          "text": [
            "(6234, 11)\n"
          ],
          "name": "stdout"
        },
        {
          "output_type": "execute_result",
          "data": {
            "text/plain": [
              "(5256, 11)"
            ]
          },
          "metadata": {
            "tags": []
          },
          "execution_count": 9
        }
      ]
    },
    {
      "cell_type": "code",
      "metadata": {
        "id": "ye4ikjZuvhGb",
        "colab_type": "code",
        "colab": {
          "base_uri": "https://localhost:8080/",
          "height": 68
        },
        "outputId": "3f0a896c-37f0-4a26-8c63-6f1fa6dcfd2e"
      },
      "source": [
        "# to remove white spaces from our columns\n",
        "\n",
        "df_new.columns = df_new.columns.str.strip().str.replace('','').str.lower()\n",
        "df_new.columns"
      ],
      "execution_count": null,
      "outputs": [
        {
          "output_type": "execute_result",
          "data": {
            "text/plain": [
              "Index(['show_id', 'type', 'title', 'cast', 'country', 'date_added',\n",
              "       'release_year', 'rating', 'duration', 'listed_in', 'description'],\n",
              "      dtype='object')"
            ]
          },
          "metadata": {
            "tags": []
          },
          "execution_count": 10
        }
      ]
    },
    {
      "cell_type": "code",
      "metadata": {
        "id": "AHIoKxsIW0Kc",
        "colab_type": "code",
        "colab": {}
      },
      "source": [
        "# Remove white spaces from our rows \n",
        "# Convert cases of rows from upper case to lower case\n",
        "\n",
        "column = ['type', 'title', 'cast', 'country', 'date_added',\n",
        "       'rating', 'duration', 'listed_in', 'description']\n",
        "\n",
        "for i, col in enumerate(column):\n",
        "  df_new[col] = df_new[col].str.strip().str.replace(' ', ' ').str.lower()\n"
      ],
      "execution_count": null,
      "outputs": []
    },
    {
      "cell_type": "code",
      "metadata": {
        "id": "xdfFNIkswXPp",
        "colab_type": "code",
        "colab": {}
      },
      "source": [
        "# Remove duplicated values\n",
        "\n",
        "df_new.drop_duplicates(keep = 'first', inplace = True)\n"
      ],
      "execution_count": null,
      "outputs": []
    },
    {
      "cell_type": "code",
      "metadata": {
        "id": "sRiAqs6GYGNs",
        "colab_type": "code",
        "colab": {
          "base_uri": "https://localhost:8080/",
          "height": 34
        },
        "outputId": "afe79428-3ba6-443c-c3c4-34cef4c348a9"
      },
      "source": [
        "df_new.duplicated().sum()"
      ],
      "execution_count": null,
      "outputs": [
        {
          "output_type": "execute_result",
          "data": {
            "text/plain": [
              "0"
            ]
          },
          "metadata": {
            "tags": []
          },
          "execution_count": 13
        }
      ]
    },
    {
      "cell_type": "code",
      "metadata": {
        "id": "cuNfiOZZwdSt",
        "colab_type": "code",
        "colab": {
          "base_uri": "https://localhost:8080/",
          "height": 351
        },
        "outputId": "27b65a15-4ed5-4d84-f98a-ff01a5f00e99"
      },
      "source": [
        "# to check for outliers in the numerical \n",
        "\n",
        "numerical = ['release_year']\n",
        "for i, j in enumerate(numerical):\n",
        "  plt.figure(figsize=(10,5))\n",
        "  plt.title(j)\n",
        "  sns.boxplot(df_new[j])"
      ],
      "execution_count": null,
      "outputs": [
        {
          "output_type": "display_data",
          "data": {
            "image/png": "[encoded data removed]",
            "text/plain": [
              "<Figure size 720x360 with 1 Axes>"
            ]
          },
          "metadata": {
            "tags": [],
            "needs_background": "light"
          }
        }
      ]
    },
    {
      "cell_type": "markdown",
      "metadata": {
        "id": "CzF8LrJ4CZqH",
        "colab_type": "text"
      },
      "source": [
        "# EDA"
      ]
    },
    {
      "cell_type": "markdown",
      "metadata": {
        "id": "7eq-PeyfCeW9",
        "colab_type": "text"
      },
      "source": [
        "# UNIVARIATE ANALYSIS"
      ]
    },
    {
      "cell_type": "code",
      "metadata": {
        "id": "hI3N3fdpCiC5",
        "colab_type": "code",
        "colab": {
          "base_uri": "https://localhost:8080/",
          "height": 351
        },
        "outputId": "fe8497d5-01cd-42fa-c6c8-d3a757bd69eb"
      },
      "source": [
        "# Plot histogram for numerical values\n",
        "\n",
        "for i, j in enumerate(numerical):\n",
        "  plt.figure(figsize=(8, 5))\n",
        "  plt.title(j)\n",
        "  sns.distplot(df_new[j], color='red', norm_hist=True)"
      ],
      "execution_count": null,
      "outputs": [
        {
          "output_type": "display_data",
          "data": {
            "image/png": "[encoded data removed]",
            "text/plain": [
              "<Figure size 576x360 with 1 Axes>"
            ]
          },
          "metadata": {
            "tags": [],
            "needs_background": "light"
          }
        }
      ]
    },
    {
      "cell_type": "code",
      "metadata": {
        "id": "cMQEDyzWDL4I",
        "colab_type": "code",
        "colab": {
          "base_uri": "https://localhost:8080/",
          "height": 1000
        },
        "outputId": "dd60b930-e1e4-4ea2-8e61-75cc6692935e"
      },
      "source": [
        "# We will visulaize a Countplot of our Categorical Variables\n",
        "for i,c in enumerate(column):\n",
        "  \n",
        "  plt.figure(figsize= (8,6))\n",
        "  plt.title(c)\n",
        "  df_new[c].value_counts()[:10].plot(kind = 'barh')"
      ],
      "execution_count": null,
      "outputs": [
        {
          "output_type": "display_data",
          "data": {
            "image/png": "[encoded data removed]",
            "text/plain": [
              "<Figure size 576x432 with 1 Axes>"
            ]
          },
          "metadata": {
            "tags": [],
            "needs_background": "light"
          }
        },
        {
          "output_type": "display_data",
          "data": {
            "image/png": "[encoded data removed]",
            "text/plain": [
              "<Figure size 576x432 with 1 Axes>"
            ]
          },
          "metadata": {
            "tags": [],
            "needs_background": "light"
          }
        },
        {
          "output_type": "display_data",
          "data": {
            "image/png": "[encoded data removed]",
            "text/plain": [
              "<Figure size 576x432 with 1 Axes>"
            ]
          },
          "metadata": {
            "tags": [],
            "needs_background": "light"
          }
        },
        {
          "output_type": "display_data",
          "data": {
            "image/png": "[encoded data removed]",
            "text/plain": [
              "<Figure size 576x432 with 1 Axes>"
            ]
          },
          "metadata": {
            "tags": [],
            "needs_background": "light"
          }
        },
        {
          "output_type": "display_data",
          "data": {
            "image/png": "[encoded data removed]",
            "text/plain": [
              "<Figure size 576x432 with 1 Axes>"
            ]
          },
          "metadata": {
            "tags": [],
            "needs_background": "light"
          }
        },
        {
          "output_type": "display_data",
          "data": {
            "image/png": "[encoded data removed]",
            "text/plain": [
              "<Figure size 576x432 with 1 Axes>"
            ]
          },
          "metadata": {
            "tags": [],
            "needs_background": "light"
          }
        },
        {
          "output_type": "display_data",
          "data": {
            "image/png": "[encoded data removed]",
            "text/plain": [
              "<Figure size 576x432 with 1 Axes>"
            ]
          },
          "metadata": {
            "tags": [],
            "needs_background": "light"
          }
        },
        {
          "output_type": "display_data",
          "data": {
            "image/png": "[encoded data removed]",
            "text/plain": [
              "<Figure size 576x432 with 1 Axes>"
            ]
          },
          "metadata": {
            "tags": [],
            "needs_background": "light"
          }
        },
        {
          "output_type": "display_data",
          "data": {
            "image/png": "[encoded data removed]",
            "text/plain": [
              "<Figure size 576x432 with 1 Axes>"
            ]
          },
          "metadata": {
            "tags": [],
            "needs_background": "light"
          }
        }
      ]
    },
    {
      "cell_type": "markdown",
      "metadata": {
        "id": "6Hl968hLf_Wx",
        "colab_type": "text"
      },
      "source": [
        "## CREATING RECOMMENDATION MODEL"
      ]
    },
    {
      "cell_type": "markdown",
      "metadata": {
        "id": "oAHlLrDPFzum",
        "colab_type": "text"
      },
      "source": [
        "#### WORD2VEC MODEL"
      ]
    },
    {
      "cell_type": "code",
      "metadata": {
        "id": "kvXwWjh8ZQgG",
        "colab_type": "code",
        "colab": {
          "base_uri": "https://localhost:8080/",
          "height": 247
        },
        "outputId": "edfcc948-a7f4-41ad-fd17-0323a7263e14"
      },
      "source": [
        "# Create a new column combining both title and type columns\n",
        "\n",
        "df_new['type_title'] = df_new['type']+ \" \" + df_new['title']\n",
        "\n",
        "# Create a new dataset with feature only\n",
        "\n",
        "df_features = df_new[[ 'type', 'title', 'cast', 'country', 'date_added',\n",
        "        'rating', 'duration', 'listed_in', 'description',\n",
        "       'type_title']]\n",
        "df_features.head(2)\n"
      ],
      "execution_count": null,
      "outputs": [
        {
          "output_type": "execute_result",
          "data": {
            "text/html": [
              "<div>\n",
              "<style scoped>\n",
              "    .dataframe tbody tr th:only-of-type {\n",
              "        vertical-align: middle;\n",
              "    }\n",
              "\n",
              "    .dataframe tbody tr th {\n",
              "        vertical-align: top;\n",
              "    }\n",
              "\n",
              "    .dataframe thead th {\n",
              "        text-align: right;\n",
              "    }\n",
              "</style>\n",
              "<table border=\"1\" class=\"dataframe\">\n",
              "  <thead>\n",
              "    <tr style=\"text-align: right;\">\n",
              "      <th></th>\n",
              "      <th>type</th>\n",
              "      <th>title</th>\n",
              "      <th>cast</th>\n",
              "      <th>country</th>\n",
              "      <th>date_added</th>\n",
              "      <th>rating</th>\n",
              "      <th>duration</th>\n",
              "      <th>listed_in</th>\n",
              "      <th>description</th>\n",
              "      <th>type_title</th>\n",
              "    </tr>\n",
              "  </thead>\n",
              "  <tbody>\n",
              "    <tr>\n",
              "      <th>0</th>\n",
              "      <td>movie</td>\n",
              "      <td>norm of the north: king sized adventure</td>\n",
              "      <td>alan marriott, andrew toth, brian dobson, cole...</td>\n",
              "      <td>united states, india, south korea, china</td>\n",
              "      <td>september 9, 2019</td>\n",
              "      <td>tv-pg</td>\n",
              "      <td>90 min</td>\n",
              "      <td>children &amp; family movies, comedies</td>\n",
              "      <td>before planning an awesome wedding for his gra...</td>\n",
              "      <td>movie norm of the north: king sized adventure</td>\n",
              "    </tr>\n",
              "    <tr>\n",
              "      <th>1</th>\n",
              "      <td>movie</td>\n",
              "      <td>jandino: whatever it takes</td>\n",
              "      <td>jandino asporaat</td>\n",
              "      <td>united kingdom</td>\n",
              "      <td>september 9, 2016</td>\n",
              "      <td>tv-ma</td>\n",
              "      <td>94 min</td>\n",
              "      <td>stand-up comedy</td>\n",
              "      <td>jandino asporaat riffs on the challenges of ra...</td>\n",
              "      <td>movie jandino: whatever it takes</td>\n",
              "    </tr>\n",
              "  </tbody>\n",
              "</table>\n",
              "</div>"
            ],
            "text/plain": [
              "    type  ...                                     type_title\n",
              "0  movie  ...  movie norm of the north: king sized adventure\n",
              "1  movie  ...               movie jandino: whatever it takes\n",
              "\n",
              "[2 rows x 10 columns]"
            ]
          },
          "metadata": {
            "tags": []
          },
          "execution_count": 17
        }
      ]
    },
    {
      "cell_type": "code",
      "metadata": {
        "id": "bl1-s2z0K9lL",
        "colab_type": "code",
        "colab": {
          "base_uri": "https://localhost:8080/",
          "height": 119
        },
        "outputId": "3b46bedb-5425-4b5b-a3e2-716a20eb3759"
      },
      "source": [
        "# For each row in df_features, combine all columns into one\n",
        "\n",
        "df_one = df_features.apply(lambda X: ','.join(X.astype(str)), axis = 1)\n",
        "df_one.head()"
      ],
      "execution_count": null,
      "outputs": [
        {
          "output_type": "execute_result",
          "data": {
            "text/plain": [
              "0    movie,norm of the north: king sized adventure,...\n",
              "1    movie,jandino: whatever it takes,jandino aspor...\n",
              "2    tv show,transformers prime,peter cullen, sumal...\n",
              "3    tv show,transformers: robots in disguise,will ...\n",
              "4    movie,#realityhigh,nesta cooper, kate walsh, j...\n",
              "dtype: object"
            ]
          },
          "metadata": {
            "tags": []
          },
          "execution_count": 18
        }
      ]
    },
    {
      "cell_type": "code",
      "metadata": {
        "id": "ssDDdws7Q7Eu",
        "colab_type": "code",
        "colab": {
          "base_uri": "https://localhost:8080/",
          "height": 80
        },
        "outputId": "7c29f30b-2735-4e15-8b6e-fe2efe91b06d"
      },
      "source": [
        "# Assign a name to the one column\n",
        "df_clean = pd.DataFrame({'Clean': df_one})\n",
        "df_clean.head(1)"
      ],
      "execution_count": null,
      "outputs": [
        {
          "output_type": "execute_result",
          "data": {
            "text/html": [
              "<div>\n",
              "<style scoped>\n",
              "    .dataframe tbody tr th:only-of-type {\n",
              "        vertical-align: middle;\n",
              "    }\n",
              "\n",
              "    .dataframe tbody tr th {\n",
              "        vertical-align: top;\n",
              "    }\n",
              "\n",
              "    .dataframe thead th {\n",
              "        text-align: right;\n",
              "    }\n",
              "</style>\n",
              "<table border=\"1\" class=\"dataframe\">\n",
              "  <thead>\n",
              "    <tr style=\"text-align: right;\">\n",
              "      <th></th>\n",
              "      <th>Clean</th>\n",
              "    </tr>\n",
              "  </thead>\n",
              "  <tbody>\n",
              "    <tr>\n",
              "      <th>0</th>\n",
              "      <td>movie,norm of the north: king sized adventure,...</td>\n",
              "    </tr>\n",
              "  </tbody>\n",
              "</table>\n",
              "</div>"
            ],
            "text/plain": [
              "                                               Clean\n",
              "0  movie,norm of the north: king sized adventure,..."
            ]
          },
          "metadata": {
            "tags": []
          },
          "execution_count": 19
        }
      ]
    },
    {
      "cell_type": "code",
      "metadata": {
        "id": "g1qWNerORLSq",
        "colab_type": "code",
        "colab": {
          "base_uri": "https://localhost:8080/",
          "height": 649
        },
        "outputId": "cceab5ae-8412-417e-f20a-facf9fcf8c75"
      },
      "source": [
        "# Create a list of list format of the df_clean for genism model\n",
        "\n",
        "sent = [row.split(',') for row in df_clean['Clean']]\n",
        "sent[:2]"
      ],
      "execution_count": null,
      "outputs": [
        {
          "output_type": "execute_result",
          "data": {
            "text/plain": [
              "[['movie',\n",
              "  'norm of the north: king sized adventure',\n",
              "  'alan marriott',\n",
              "  ' andrew toth',\n",
              "  ' brian dobson',\n",
              "  ' cole howard',\n",
              "  ' jennifer cameron',\n",
              "  ' jonathan holmes',\n",
              "  ' lee tockar',\n",
              "  ' lisa durupt',\n",
              "  ' maya kay',\n",
              "  ' michael dobson',\n",
              "  'united states',\n",
              "  ' india',\n",
              "  ' south korea',\n",
              "  ' china',\n",
              "  'september 9',\n",
              "  ' 2019',\n",
              "  'tv-pg',\n",
              "  '90 min',\n",
              "  'children & family movies',\n",
              "  ' comedies',\n",
              "  'before planning an awesome wedding for his grandfather',\n",
              "  ' a polar bear king must take back a stolen artifact from an evil archaeologist first.',\n",
              "  'movie norm of the north: king sized adventure'],\n",
              " ['movie',\n",
              "  'jandino: whatever it takes',\n",
              "  'jandino asporaat',\n",
              "  'united kingdom',\n",
              "  'september 9',\n",
              "  ' 2016',\n",
              "  'tv-ma',\n",
              "  '94 min',\n",
              "  'stand-up comedy',\n",
              "  'jandino asporaat riffs on the challenges of raising kids and serenades the audience with a rousing rendition of \"sex on fire\" in his comedy show.',\n",
              "  'movie jandino: whatever it takes']]"
            ]
          },
          "metadata": {
            "tags": []
          },
          "execution_count": 20
        }
      ]
    },
    {
      "cell_type": "code",
      "metadata": {
        "id": "_RZuZMzMO8kc",
        "colab_type": "code",
        "colab": {
          "base_uri": "https://localhost:8080/",
          "height": 326
        },
        "outputId": "c37dde10-5188-43fe-9974-51955e865a2c"
      },
      "source": [
        "# Install genism library\n",
        "\n",
        "!pip install --upgrade gensim"
      ],
      "execution_count": null,
      "outputs": [
        {
          "output_type": "stream",
          "text": [
            "Requirement already up-to-date: gensim in /usr/local/lib/python3.6/dist-packages (3.8.3)\n",
            "Requirement already satisfied, skipping upgrade: numpy>=1.11.3 in /usr/local/lib/python3.6/dist-packages (from gensim) (1.18.5)\n",
            "Requirement already satisfied, skipping upgrade: six>=1.5.0 in /usr/local/lib/python3.6/dist-packages (from gensim) (1.12.0)\n",
            "Requirement already satisfied, skipping upgrade: scipy>=0.18.1 in /usr/local/lib/python3.6/dist-packages (from gensim) (1.4.1)\n",
            "Requirement already satisfied, skipping upgrade: smart-open>=1.8.1 in /usr/local/lib/python3.6/dist-packages (from gensim) (2.0.0)\n",
            "Requirement already satisfied, skipping upgrade: requests in /usr/local/lib/python3.6/dist-packages (from smart-open>=1.8.1->gensim) (2.23.0)\n",
            "Requirement already satisfied, skipping upgrade: boto in /usr/local/lib/python3.6/dist-packages (from smart-open>=1.8.1->gensim) (2.49.0)\n",
            "Requirement already satisfied, skipping upgrade: boto3 in /usr/local/lib/python3.6/dist-packages (from smart-open>=1.8.1->gensim) (1.14.2)\n",
            "Requirement already satisfied, skipping upgrade: certifi>=2017.4.17 in /usr/local/lib/python3.6/dist-packages (from requests->smart-open>=1.8.1->gensim) (2020.4.5.2)\n",
            "Requirement already satisfied, skipping upgrade: urllib3!=1.25.0,!=1.25.1,<1.26,>=1.21.1 in /usr/local/lib/python3.6/dist-packages (from requests->smart-open>=1.8.1->gensim) (1.24.3)\n",
            "Requirement already satisfied, skipping upgrade: chardet<4,>=3.0.2 in /usr/local/lib/python3.6/dist-packages (from requests->smart-open>=1.8.1->gensim) (3.0.4)\n",
            "Requirement already satisfied, skipping upgrade: idna<3,>=2.5 in /usr/local/lib/python3.6/dist-packages (from requests->smart-open>=1.8.1->gensim) (2.9)\n",
            "Requirement already satisfied, skipping upgrade: s3transfer<0.4.0,>=0.3.0 in /usr/local/lib/python3.6/dist-packages (from boto3->smart-open>=1.8.1->gensim) (0.3.3)\n",
            "Requirement already satisfied, skipping upgrade: jmespath<1.0.0,>=0.7.1 in /usr/local/lib/python3.6/dist-packages (from boto3->smart-open>=1.8.1->gensim) (0.10.0)\n",
            "Requirement already satisfied, skipping upgrade: botocore<1.18.0,>=1.17.2 in /usr/local/lib/python3.6/dist-packages (from boto3->smart-open>=1.8.1->gensim) (1.17.2)\n",
            "Requirement already satisfied, skipping upgrade: docutils<0.16,>=0.10 in /usr/local/lib/python3.6/dist-packages (from botocore<1.18.0,>=1.17.2->boto3->smart-open>=1.8.1->gensim) (0.15.2)\n",
            "Requirement already satisfied, skipping upgrade: python-dateutil<3.0.0,>=2.1 in /usr/local/lib/python3.6/dist-packages (from botocore<1.18.0,>=1.17.2->boto3->smart-open>=1.8.1->gensim) (2.8.1)\n"
          ],
          "name": "stdout"
        }
      ]
    },
    {
      "cell_type": "code",
      "metadata": {
        "id": "2taWVpqEPYyQ",
        "colab_type": "code",
        "colab": {}
      },
      "source": [
        "# Import Genism and Word2vec alogorithm\n",
        "\n",
        "from gensim.models import Word2Vec\n",
        "\n",
        "# We train word2vec with our custom model as follows:\n",
        "\n",
        "model = Word2Vec(sent, min_count=1, size=50, workers= 4, window= 4, sg = 1 )\n"
      ],
      "execution_count": null,
      "outputs": []
    },
    {
      "cell_type": "code",
      "metadata": {
        "id": "IGzs6_AOTD29",
        "colab_type": "code",
        "colab": {
          "base_uri": "https://localhost:8080/",
          "height": 34
        },
        "outputId": "a053f25d-d34a-436b-9c7c-f7eb497601f6"
      },
      "source": [
        "# Compute similarities between 'movie norm of the north: king sized adventure','movie jandino: whatever it takes'\n",
        "\n",
        "model.similarity('movie norm of the north: king sized adventure','movie jandino: whatever it takes')"
      ],
      "execution_count": null,
      "outputs": [
        {
          "output_type": "execute_result",
          "data": {
            "text/plain": [
              "0.6395518"
            ]
          },
          "metadata": {
            "tags": []
          },
          "execution_count": 23
        }
      ]
    },
    {
      "cell_type": "code",
      "metadata": {
        "id": "w7dyenVDa37t",
        "colab_type": "code",
        "colab": {
          "base_uri": "https://localhost:8080/",
          "height": 419
        },
        "outputId": "66a32141-af4a-4ee2-cb01-61b6c026bd86"
      },
      "source": [
        "# Create a unique dataframe using the newly created type_title column\n",
        "\n",
        "unique = pd.DataFrame(df_features['type_title'].unique())\n",
        "unique"
      ],
      "execution_count": null,
      "outputs": [
        {
          "output_type": "execute_result",
          "data": {
            "text/html": [
              "<div>\n",
              "<style scoped>\n",
              "    .dataframe tbody tr th:only-of-type {\n",
              "        vertical-align: middle;\n",
              "    }\n",
              "\n",
              "    .dataframe tbody tr th {\n",
              "        vertical-align: top;\n",
              "    }\n",
              "\n",
              "    .dataframe thead th {\n",
              "        text-align: right;\n",
              "    }\n",
              "</style>\n",
              "<table border=\"1\" class=\"dataframe\">\n",
              "  <thead>\n",
              "    <tr style=\"text-align: right;\">\n",
              "      <th></th>\n",
              "      <th>0</th>\n",
              "    </tr>\n",
              "  </thead>\n",
              "  <tbody>\n",
              "    <tr>\n",
              "      <th>0</th>\n",
              "      <td>movie norm of the north: king sized adventure</td>\n",
              "    </tr>\n",
              "    <tr>\n",
              "      <th>1</th>\n",
              "      <td>movie jandino: whatever it takes</td>\n",
              "    </tr>\n",
              "    <tr>\n",
              "      <th>2</th>\n",
              "      <td>tv show transformers prime</td>\n",
              "    </tr>\n",
              "    <tr>\n",
              "      <th>3</th>\n",
              "      <td>tv show transformers: robots in disguise</td>\n",
              "    </tr>\n",
              "    <tr>\n",
              "      <th>4</th>\n",
              "      <td>movie #realityhigh</td>\n",
              "    </tr>\n",
              "    <tr>\n",
              "      <th>...</th>\n",
              "      <td>...</td>\n",
              "    </tr>\n",
              "    <tr>\n",
              "      <th>5222</th>\n",
              "      <td>tv show talking tom and friends</td>\n",
              "    </tr>\n",
              "    <tr>\n",
              "      <th>5223</th>\n",
              "      <td>tv show pokémon the series</td>\n",
              "    </tr>\n",
              "    <tr>\n",
              "      <th>5224</th>\n",
              "      <td>tv show justin time</td>\n",
              "    </tr>\n",
              "    <tr>\n",
              "      <th>5225</th>\n",
              "      <td>tv show terrace house: boys &amp; girls in the city</td>\n",
              "    </tr>\n",
              "    <tr>\n",
              "      <th>5226</th>\n",
              "      <td>tv show weeds</td>\n",
              "    </tr>\n",
              "  </tbody>\n",
              "</table>\n",
              "<p>5227 rows × 1 columns</p>\n",
              "</div>"
            ],
            "text/plain": [
              "                                                    0\n",
              "0       movie norm of the north: king sized adventure\n",
              "1                    movie jandino: whatever it takes\n",
              "2                          tv show transformers prime\n",
              "3            tv show transformers: robots in disguise\n",
              "4                                  movie #realityhigh\n",
              "...                                               ...\n",
              "5222                  tv show talking tom and friends\n",
              "5223                       tv show pokémon the series\n",
              "5224                              tv show justin time\n",
              "5225  tv show terrace house: boys & girls in the city\n",
              "5226                                    tv show weeds\n",
              "\n",
              "[5227 rows x 1 columns]"
            ]
          },
          "metadata": {
            "tags": []
          },
          "execution_count": 24
        }
      ]
    },
    {
      "cell_type": "code",
      "metadata": {
        "id": "Hjdf0K0gVxsg",
        "colab_type": "code",
        "colab": {
          "base_uri": "https://localhost:8080/",
          "height": 204
        },
        "outputId": "e52941e8-a298-4a05-f51e-35366911fa4c"
      },
      "source": [
        "# Display vectors of tv show weeds\n",
        "\n",
        "model['tv show weeds']"
      ],
      "execution_count": null,
      "outputs": [
        {
          "output_type": "execute_result",
          "data": {
            "text/plain": [
              "array([-0.00857777, -0.0002346 , -0.0058149 ,  0.01308709, -0.01440882,\n",
              "        0.0041649 ,  0.00747025,  0.00179309, -0.00798032,  0.00252917,\n",
              "        0.00242521,  0.0043897 ,  0.00364562, -0.01751436, -0.01119105,\n",
              "       -0.01476898,  0.00256538,  0.0057332 , -0.00332131,  0.01284775,\n",
              "        0.00367109,  0.00779399, -0.01061745, -0.00312793, -0.0154834 ,\n",
              "       -0.0145678 ,  0.00096372, -0.00466901, -0.01950407,  0.01260837,\n",
              "        0.01310699, -0.00580977, -0.01335454,  0.00049987, -0.00851793,\n",
              "       -0.0172057 , -0.00948724,  0.01412682,  0.0001937 , -0.01411193,\n",
              "       -0.01016585,  0.000216  ,  0.02210404, -0.02202478,  0.01094194,\n",
              "        0.00260909,  0.00787905, -0.00246574,  0.0175798 ,  0.00676657],\n",
              "      dtype=float32)"
            ]
          },
          "metadata": {
            "tags": []
          },
          "execution_count": 25
        }
      ]
    },
    {
      "cell_type": "code",
      "metadata": {
        "id": "bCIbL3CQt-JE",
        "colab_type": "code",
        "colab": {
          "base_uri": "https://localhost:8080/",
          "height": 221
        },
        "outputId": "4999e50c-a4bf-4642-e0d3-0f91f4b14e3e"
      },
      "source": [
        "# Get recommendations given an input\n",
        "\n",
        "show = input(str('Enter The Show : '))\n",
        "\n",
        "movie = model.most_similar( show , topn=5000)\n",
        "\n",
        "movie = pd.DataFrame(movie, columns = {'type_title', 'Similarity'})\n",
        "movie\n",
        "movie = movie[movie['Similarity'].str.startswith(('movie', 'tv show'))]\n",
        "print('\\n')\n",
        "print('Below are the top 5 Recomendations')\n",
        "print('\\n')\n",
        "print(movie.head())"
      ],
      "execution_count": null,
      "outputs": [
        {
          "output_type": "stream",
          "text": [
            "Enter The Show : tv show la casa de papel\n",
            "\n",
            "\n",
            "Below are the top 5 Recomendations\n",
            "\n",
            "\n",
            "                       Similarity  type_title\n",
            "36                   tv show love    0.950864\n",
            "40                tv show top boy    0.950274\n",
            "89          tv show wild district    0.944849\n",
            "116        tv show cannon busters    0.942640\n",
            "125  tv show queen of no marriage    0.942195\n"
          ],
          "name": "stdout"
        }
      ]
    }
  ]
}